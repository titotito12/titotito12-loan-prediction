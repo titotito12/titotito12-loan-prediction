{
 "cells": [
  {
   "cell_type": "code",
   "execution_count": null,
   "metadata": {},
   "outputs": [],
   "source": [
    "#Null Removal visualisation"
   ]
  },
  {
   "cell_type": "code",
   "execution_count": null,
   "metadata": {},
   "outputs": [],
   "source": [
    "import numpy as np\n",
    "import pandas as pd\n",
    "# Auxiliary classes:\n",
    "from dataframeinfo import DataFrameInfo\n",
    "from dataframetransform import DataFrameTransform\n",
    "from plotter import Plotter "
   ]
  },
  {
   "cell_type": "code",
   "execution_count": null,
   "metadata": {},
   "outputs": [],
   "source": [
    "# Creating an instance of each class:\n",
    "info = DataFrameInfo()\n",
    "transform = DataFrameTransform()\n",
    "plotter = Plotter()"
   ]
  },
  {
   "cell_type": "code",
   "execution_count": null,
   "metadata": {},
   "outputs": [],
   "source": [
    "# Importing the dataframe:\n",
    "df = pd.read_csv('loan_payments_versions/loan_payments_post_skewness_correction.csv')"
   ]
  },
  {
   "cell_type": "code",
   "execution_count": null,
   "metadata": {},
   "outputs": [],
   "source": [
    "#First the box-plots for numerical columns must be visualised to identify where outliers need to be removed.\n",
    "numeric_columns = info.get_numeric_columns(df)\n",
    "plotter.facet_grid_box_plot(df, numeric_columns)"
   ]
  },
  {
   "cell_type": "code",
   "execution_count": null,
   "metadata": {},
   "outputs": [],
   "source": [
    "#Post Outlier Removal Visualisation\n",
    "#Now it is time to visualise the effects of the outlier removal.\n",
    "df = pd.read_csv('loan_payments_versions/loan_payments_transformed.csv', index_col='id')"
   ]
  },
  {
   "cell_type": "code",
   "execution_count": null,
   "metadata": {},
   "outputs": [],
   "source": [
    "# List of columns identified with outliers that need to be removed.\n",
    "outlier_columns = ['loan_amount', 'funded_amount', 'funded_amount_inv', 'int_rate', 'instalment', 'annual_inc', 'dti', 'open_accounts', 'total_accounts', 'total_payment', 'total_payment_inv', 'total_rec_prncp', 'total_rec_int', 'last_payment_amount']\n",
    "for column in outlier_columns:\n",
    "    plotter.before_after_outlier_removal(df, column)"
   ]
  }
 ],
 "metadata": {
  "language_info": {
   "name": "python"
  }
 },
 "nbformat": 4,
 "nbformat_minor": 2
}
