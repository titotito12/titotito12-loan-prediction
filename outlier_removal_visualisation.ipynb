{
 "cells": [
  {
   "cell_type": "code",
   "execution_count": null,
   "metadata": {},
   "outputs": [],
   "source": []
  },
  {
   "cell_type": "code",
   "execution_count": null,
   "metadata": {},
   "outputs": [],
   "source": [
    "import numpy as np\n",
    "import pandas as pd\n",
    "# Auxiliary classes:\n",
    "from dataframeinfo import DataFrameInfo\n",
    "from dataframetransform import DataFrameTransform\n",
    "from plotter import Plotter "
   ]
  },
  {
   "cell_type": "code",
   "execution_count": null,
   "metadata": {},
   "outputs": [],
   "source": [
    "# Creating an instance of each class:\n",
    "info = DataFrameInfo()\n",
    "transform = DataFrameTransform()\n",
    "plotter = Plotter()"
   ]
  },
  {
   "cell_type": "code",
   "execution_count": null,
   "metadata": {},
   "outputs": [],
   "source": [
    "# Importing the dataframe:\n",
    "df = pd.read_csv('loan_payments_versions/loan_payments_post_skewness_correction.csv')"
   ]
  },
  {
   "cell_type": "code",
   "execution_count": null,
   "metadata": {},
   "outputs": [],
   "source": [
    "#First the box-plots for numerical columns must be visualised to identify where outliers need to be removed.\n",
    "numeric_columns = info.get_numeric_columns(df)\n",
    "plotter.facet_grid_box_plot(df, numeric_columns)"
   ]
  }
 ],
 "metadata": {
  "language_info": {
   "name": "python"
  }
 },
 "nbformat": 4,
 "nbformat_minor": 2
}
