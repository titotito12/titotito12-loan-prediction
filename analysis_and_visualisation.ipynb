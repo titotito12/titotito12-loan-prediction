{
 "cells": [
  {
   "cell_type": "code",
   "execution_count": null,
   "metadata": {},
   "outputs": [],
   "source": [
    "\n"
   ]
  },
  {
   "cell_type": "code",
   "execution_count": null,
   "metadata": {},
   "outputs": [],
   "source": [
    "#Analysis and Visualisation\n",
    "\n",
    "import pandas as pd\n",
    "# Auxiliary classes:\n",
    "from dataframeinfo import DataFrameInfo\n",
    "from datatransform import DataTransform\n",
    "from plotter import Plotter"
   ]
  },
  {
   "cell_type": "code",
   "execution_count": null,
   "metadata": {},
   "outputs": [],
   "source": [
    "# Importing the transformed data into dataframes\n",
    "df = pd.read_csv('loan_payments_versions/loan_payments_post_null_imputation.csv', index_col='id') # Pre normalised dataframe.\n",
    "normalised_df = pd.read_csv('loan_payments_versions/loan_payments_transformed.csv', index_col='id') # Normalised datafram"
   ]
  },
  {
   "cell_type": "code",
   "execution_count": null,
   "metadata": {},
   "outputs": [],
   "source": [
    "# Instantiating classes:\n",
    "transform = DataTransform()\n",
    "query = DataFrameInfo()\n",
    "visual = Plotter()"
   ]
  },
  {
   "cell_type": "code",
   "execution_count": null,
   "metadata": {},
   "outputs": [],
   "source": [
    "# change string to date formats.\n",
    "transform.convert_string_to_date(df, 'last_payment_date')\n",
    "transform.convert_string_to_date(df, 'issue_date')\n",
    "\n",
    "transform.convert_string_to_date(normalised_df, 'last_payment_date')\n",
    "transform.convert_string_to_date(normalised_df, 'issue_date')"
   ]
  },
  {
   "cell_type": "code",
   "execution_count": null,
   "metadata": {},
   "outputs": [],
   "source": [
    "# Calculate the overall percentage of recovery against total and investor funding.\n",
    "total_recovery_percentage = query.calculate_column_percentage(df, 'total_payment', 'funded_amount')\n",
    "total_recovery_percentage_inv = query.calculate_column_percentage(df, 'total_payment', 'funded_amount_inv')\n",
    "\n",
    "# Visualize the results using a bar plot.\n",
    "categories = ['Total Funding', 'Investor Funding']\n",
    "variables = [total_recovery_percentage, total_recovery_percentage_inv]\n",
    "visual.bar_chart(independant_categories=categories, dependant_variables=variables, title='Percentage of Loans Recovered Against Funding', y_label='Recovery Percentage')\n"
   ]
  },
  {
   "cell_type": "code",
   "execution_count": null,
   "metadata": {},
   "outputs": [],
   "source": [
    "# Visualise the results using a pie chart.\n",
    "visual.pie_chart(labels=categories, sizes=variables, title='Percentage of Loans Recovered Against Funding')"
   ]
  },
  {
   "cell_type": "code",
   "execution_count": null,
   "metadata": {},
   "outputs": [],
   "source": [
    "collection_projections = query.calculate_total_collections_over_period(df, period=6) # Obtain the collection amount, loan amount and outstanding loan for the 6 month period in a dictionary.\n",
    "\n",
    "total_collections = collection_projections['total_collections'] # Extract total collection amount from dictionary.\n",
    "total_loan = collection_projections['total_loan'] # Extract total loan amount from dictionary.\n",
    "total_loan_outstanding = collection_projections['total_loan_outstanding'] # Extract total loan amount outstanding from dictionary.\n",
    "\n",
    "collections_percent = query.calculate_percentage(total_collections, total_loan) # calculate collections over total loan for 6 months as a percentage. \n",
    "print(f'The collections over the next 6 months are equivelant to {round(total_collections,2)}\\nThis is {round(collections_"
   ]
  },
  {
   "cell_type": "code",
   "execution_count": null,
   "metadata": {},
   "outputs": [],
   "source": [
    "# Setting variables for pie chart.\n",
    "sizes_1 = [total_collections, total_loan]\n",
    "sizes_2 = [total_collections, total_loan_outstanding]\n",
    "# Setting labels for pie chart.\n",
    "labels_1 = ['Collections in 6 months', 'Total loan']\n",
    "labels_2 = ['Collections in 6 months', 'Total loan outstanding']\n",
    "# Generating two pie charts to compare collections by total loan and outstanding loan.\n",
    "visual.two_pie_charts(sizes_1=sizes_1, labels_1=labels_1, sizes_2=sizes_2, labels_2=labels_2, plot_title='Collections over 6 months'"
   ]
  },
  {
   "cell_type": "code",
   "execution_count": null,
   "metadata": {},
   "outputs": [],
   "source": [
    "projected_percentages_dictionary = query.monthly_collection_percentage_projections(df, 6)\n",
    "\n",
    "# Setting up bar chart plot parameters.\n",
    "categories = [1,2,3,4,5,6] # identifying categories in terms of months of projection.\n",
    "variables_1 = projected_percentages_dictionary['total_loan_percent'] # defining percentage variables for first bar chart by extracting first dictionary list.\n",
    "variables_2 = projected_percentages_dictionary['outstanding_loan_percent'] # defining percentage variables for second bar chart by extracting second dictionary list.\n",
    "title_1 = 'collections as percentage of total loan'\n",
    "title_2 = 'collections as percentage of outstanding loan'\n",
    "y_label = 'percentage'\n",
    "x_label ='Month'\n",
    "\n",
    "# Generating plot:\n",
    "visual.two_bar_charts(independant_categories_1=categories, dependant_variables_1=variables_1, independant_categories_2=categories, dependant_variables_2=variables_2,\n",
    "                     plot_title='Collections compared to loan', title_1=title_1, title_2=title_2, y_label_1=y_label, x_label_1=x_label)"
   ]
  },
  {
   "cell_type": "code",
   "execution_count": null,
   "metadata": {},
   "outputs": [],
   "source": [
    "number_of_charge_offs = query.count_value_in_column(df, 'loan_status', 'Charged Off') # Total number of loans that were 'Charged Off'.\n",
    "charge_off_percentage = query.calculate_percentage(number_of_charge_offs, len(df)) # Percentage of total loans that were 'Charged Off'.\n",
    "\n",
    "# Generate plot comparing number of charged off to non charged off loans.\n",
    "visual.pie_chart(labels=['Charged Off', 'Not Charged Off'], sizes=[charge_off_percentage, 100 - charge_off_percentage],)"
   ]
  },
  {
   "cell_type": "code",
   "execution_count": null,
   "metadata": {},
   "outputs": [],
   "source": [
    "funded_amounts_charged_off = df[df['loan_status']=='Charged Off']['funded_amount'].sum() # Total amount paid out in 'Charged Off' loans.\n",
    "total_payment_charged_off = df[df['loan_status']=='Charged Off']['total_payment'].sum() # Total amount paid towards loan by customers before they were 'Charged Off'.\n",
    "percent_paid_charged_off = query.calculate_percentage(total_payment_charged_off, funded_amounts_charged_off)\n",
    "\n",
    "print(f\"The total value of all charged off loans is {round(funded_amounts_charged_off,2)}.\\nA total of {round(total_payment_charged_off,2)} was paid before these loans were charged off.\")\n",
    "print(f\"This means the company recieved {round(percent_paid_charged_off,1)} % of funds for 'Charged Off' loans.\")\n",
    "\n",
    "# Generating pie chart to visualise data\n",
    "visual.pie_chart(labels=['Amount Paid', 'Amount Not Paid'], sizes=[percent_paid_charged_off, 100-percent_paid_charged_off])"
   ]
  },
  {
   "cell_type": "code",
   "execution_count": null,
   "metadata": {},
   "outputs": [],
   "source": [
    "charged_off_df = df[df['loan_status']=='Charged Off'] # Filtering out non 'Charged Off' loans.\n",
    "total_loan_amount = charged_off_df['funded_amount'] + (charged_off_df['funded_amount'] * (charged_off_df['int_rate']) * 0.01) # Total amount owed by customer, accounting for interest.\n",
    "charged_off_df['projected_loss'] = total_loan_amount - charged_off_df['total_payment'] # Calculating the projected loss for each 'Charged Off' loan.\n",
    "projected_loss = charged_off_df['projected_loss'].sum() # Calculating total loss of revenue for 'Charged Off' loans.\n",
    "\n",
    "# Generating bar chart to visualise loss.\n",
    "categories = ['Total Expected Revenue', 'Total Actual Revenue', 'Total Loans Value', 'Charged Off Loan Paid Back Total', 'Projected Loss of Revenue']\n",
    "total_expected_revenue = (df['loan_amount'] * (1 + (df['int_rate'] * 0.01))).sum() # Convert interest rate to decimal and factor that into loan_amount\n",
    "total_actual_revenue = df['total_payment'].sum()\n",
    "loans_total = df['funded_amount'].sum()\n",
    "data = [total_expected_revenue/1000000000, total_actual_revenue/1000000000, loans_total/1000000000, total_payment_charged_off/1000000000, projected_loss/1000000000] # Categorical variables divided by 1,000,000,000.\n",
    "\n",
    "visual.bar_chart(independant_categories=categories, dependant_variables=data, title=\"Projected Loss in Revenue from 'Charged Off Loan Paid Back Total\")"
   ]
  },
  {
   "cell_type": "code",
   "execution_count": null,
   "metadata": {},
   "outputs": [],
   "source": [
    "revenue_lost = query.revenue_lost_by_month(charged_off_df) # Calculating cumulative revenue lost for each month in a list.\n",
    "revenue_lost = [revenue/1000000 for revenue in revenue_lost] # Scaling the revenue values down.\n",
    "# Visualising cumulative projected revenue lost for each month instalments are paid:\n",
    "visual.bar_chart(independant_categories=list(range(1, len(revenue_lost)+1)), dependant_variables=revenue_lost, title=revenue_lost)"
   ]
  },
  {
   "cell_type": "code",
   "execution_count": null,
   "metadata": {},
   "outputs": [],
   "source": [
    "risky_status = ['Late (31-120 days)', 'In Grace Period', 'Late (16-30 days)'] # All the risky loan status.\n",
    "risky_df = df[df['loan_status'].isin(risky_status)] # A dataframe that contains only loans deemed as risky status.\n",
    "current_df = df[df['loan_status'].isin(['Current','Late (31-120 days)','In Grace Period', 'Late (16-30 days)'])] # A mask for all current loans in dataframe.\n",
    "\n",
    "risky_customers_sum = len(risky_df) # Returns the number of risky loans.\n",
    "\n",
    "percentage_of_risky_loans = query.calculate_percentage(risky_customers_sum, len(df)) # Percentage of risky loans out of all loans.\n",
    "percentage_of_current_risky_loans = query.calculate_percentage(risky_customers_sum, len(current_df)) # Percentage of risky loans out of all current loans.\n",
    "\n",
    "print(f\"There are {risky_customers_sum} 'Risky' loans.\")\n",
    "\n",
    "# Generating pie chart visualisation of risky loan percentage out of 1) All loans 2) Current loans:\n",
    "visual.two_pie_charts(labels_1=['Risky Loans', 'Non Risky Loans'], labels_2=['Risky Loans', 'Non Risky Loans'], sizes_1=[percentage_of_risky_loans, 100-percentage_of_risky_loans],\n",
    "                    sizes_2=[percentage_of_current_risky_loans, 100-percentage_of_current_risky_loans], title_1='All Loans') "
   ]
  },
  {
   "cell_type": "code",
   "execution_count": null,
   "metadata": {},
   "outputs": [],
   "source": [
    "risky_projected_revenue_lost = query.revenue_lost_by_month(risky_df) # Calculating cumulative revenue lost for each month in a list.\n",
    "risky_total_revenue_lost = risky_projected_revenue_lost[-1] # Total revenue lost from risky loans.\n",
    "risky_total_expected_revenue = query.calculate_total_expected_revenue(risky_df) # Expected total revenue from all risky loans, if paid fully.\n",
    "current_total_expected_revenue = current_df['total_payment'].sum() #  Total expected revenue from currently active loans.\n",
    "\n",
    "print(f\"\\nIf 'Risky' loans were 'Charged Off' the company would expect to lose {round(risky_total_revenue_lost,2)} amount of revenue.\")\n",
    "\n",
    "# Setting up parameters for visualisation:\n",
    "label = ['Total Projected Revenue Gained', 'Total Projected Revenue Loss']\n",
    "variables_1 = [risky_total_expected_revenue-risky_total_revenue_lost, risky_total_revenue_lost]\n",
    "variables_2 = [current_total_expected_revenue-risky_total_revenue_lost, risky_total_revenue_lost]\n",
    "title = 'Potential Revenue Lost from Risky Loans'\n",
    "title_1 = 'Projected Revenue Lost from Risky Loans'\n",
    "title_2 = \"Projected Revenue Lost from Total Current Loans' Expected Revenue\"\n",
    "\n",
    "# Generating visualisation:\n",
    "visual.two_pie_charts(labels_1=label, sizes_1=variables_1, labels_2=label, sizes_2=variables_2, title_1=title_1, title_2=title_2)"
   ]
  },
  {
   "cell_type": "code",
   "execution_count": null,
   "metadata": {},
   "outputs": [],
   "source": [
    "default_df = df[df['loan_status']=='Default'] # A dataframe that contains only loans that were defaulted.\n",
    "default_projected_revenue_lost = query.revenue_lost_by_month(default_df) # Calculating cumulative revenue lost for each month in a list.\n",
    "default_total_revenue_lost = default_projected_revenue_lost[-1] # Total revenue lost from defaulted loans\n",
    "\n",
    "# Setting up parameters for visualisation:\n",
    "variables_3 = [total_expected_revenue-default_total_revenue_lost, default_total_revenue_lost]\n",
    "title_3 = 'Projected Revenue Lost from Default Loans'\n",
    "\n",
    "# Generating Visualisation:\n",
    "visual.pie_chart(labels=label, sizes=variables_3, title=title_3)"
   ]
  },
  {
   "cell_type": "code",
   "execution_count": null,
   "metadata": {},
   "outputs": [],
   "source": [
    "visual.discrete_value_risk_comparison(df, 'grade')"
   ]
  },
  {
   "cell_type": "code",
   "execution_count": null,
   "metadata": {},
   "outputs": [],
   "source": [
    "visual.discrete_value_risk_comparison(df, 'term')"
   ]
  },
  {
   "cell_type": "code",
   "execution_count": null,
   "metadata": {},
   "outputs": [],
   "source": [
    "visual.discrete_value_risk_comparison(df, 'employment_length')"
   ]
  },
  {
   "cell_type": "code",
   "execution_count": null,
   "metadata": {},
   "outputs": [],
   "source": [
    "visual.discrete_value_risk_comparison(df, 'home_ownership')"
   ]
  },
  {
   "cell_type": "code",
   "execution_count": null,
   "metadata": {},
   "outputs": [],
   "source": [
    "visual.discrete_value_risk_comparison(df, 'purpose')"
   ]
  },
  {
   "cell_type": "code",
   "execution_count": null,
   "metadata": {},
   "outputs": [],
   "source": [
    "visual.continuous_value_risk_comparison(df, 'annual_inc')"
   ]
  },
  {
   "cell_type": "code",
   "execution_count": null,
   "metadata": {},
   "outputs": [],
   "source": [
    "visual.continuous_value_risk_comparison(df, 'int_rate')"
   ]
  },
  {
   "cell_type": "code",
   "execution_count": null,
   "metadata": {},
   "outputs": [],
   "source": [
    "visual.continuous_value_risk_comparison(df, 'loan_amount')"
   ]
  },
  {
   "cell_type": "code",
   "execution_count": null,
   "metadata": {},
   "outputs": [],
   "source": [
    "visual.continuous_value_risk_comparison(df, 'instalment')"
   ]
  },
  {
   "cell_type": "code",
   "execution_count": null,
   "metadata": {},
   "outputs": [],
   "source": [
    "visual.continuous_value_risk_comparison(df, 'dti')"
   ]
  }
 ],
 "metadata": {
  "language_info": {
   "name": "python"
  }
 },
 "nbformat": 4,
 "nbformat_minor": 2
}
