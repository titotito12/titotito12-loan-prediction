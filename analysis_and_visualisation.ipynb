
#Analysis and Visualisation

import pandas as pd
# Auxiliary classes:
from dataframeinfo import DataFrameInfo
from datatransform import DataTransform
from plotter import Plotter

# Importing the transformed data into dataframes
df = pd.read_csv('loan_payments_versions/loan_payments_post_null_imputation.csv', index_col='id') # Pre normalised dataframe.
normalised_df = pd.read_csv('loan_payments_versions/loan_payments_transformed.csv', index_col='id') # Normalised dataframe.

# Instantiating classes:
transform = DataTransform()
query = DataFrameInfo()
visual = Plotter()
# change string to date formats.
transform.convert_string_to_date(df, 'last_payment_date')
transform.convert_string_to_date(df, 'issue_date')

transform.convert_string_to_date(normalised_df, 'last_payment_date')
transform.convert_string_to_date(normalised_df, 'issue_date')
