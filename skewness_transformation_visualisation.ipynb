{
 "cells": [
  {
   "cell_type": "code",
   "execution_count": null,
   "metadata": {},
   "outputs": [],
   "source": [
    "import pandas as pd\n",
    "# Auxiliary classes:\n",
    "from dataframeinfo import DataFrameInfo\n",
    "from dataframetransform import DataFrameTransform\n",
    "from plotter import Plotter"
   ]
  },
  {
   "cell_type": "code",
   "execution_count": null,
   "metadata": {},
   "outputs": [],
   "source": [
    "# Generate data frame by reading csv file.\n",
    "df = pd.read_csv('loan_payments_versions/loan_payments_post_null_imputation.csv', index_col='id')"
   ]
  },
  {
   "cell_type": "code",
   "execution_count": null,
   "metadata": {},
   "outputs": [],
   "source": [
    "# Creating an instance of each class.\n",
    "info = DataFrameInfo()\n",
    "plotter = Plotter()\n",
    "transform = DataFrameTransform()"
   ]
  },
  {
   "cell_type": "code",
   "execution_count": null,
   "metadata": {},
   "outputs": [],
   "source": [
    "# Retrieving a list with all the columns with a absolute value of skewness greater than 0.5.\n",
    "skewed_columns = info.get_skewed_columns(df, threshold=0.5)"
   ]
  },
  {
   "cell_type": "code",
   "execution_count": null,
   "metadata": {},
   "outputs": [],
   "source": [
    "#for each skewed column the 'compare_skewness_transformations' method will be called from the 'Plotter' class to visualise the skewness correction of each transformation method to identify the optimum.\n",
    "for column in skewed_columns:\n",
    "    plotter.compare_skewness_transformations(df, column)"
   ]
  },
  {
   "cell_type": "code",
   "execution_count": null,
   "metadata": {},
   "outputs": [],
   "source": [
    "#Post Skewness Correction Visualisation\n",
    "# Generate data frame by reading csv file.\n",
    "df = pd.read_csv('loan_payments_versions/loan_payments_post_skewness_correction.csv', index_col='id')"
   ]
  },
  {
   "cell_type": "code",
   "execution_count": null,
   "metadata": {},
   "outputs": [],
   "source": [
    "box_cox_list = ['loan_amount', 'funded_amount', 'instalment', 'annual_inc', 'total_payment', 'total_rec_int']\n",
    "yeo_johnson_list = ['funded_amount_inv', 'open_accounts', 'total_accounts', 'total_payment_inv', 'total_rec_prncp', 'last_payment_date']"
   ]
  },
  {
   "cell_type": "code",
   "execution_count": null,
   "metadata": {},
   "outputs": [],
   "source": [
    "#Visualisation of the Q-Q plots before and after the selected skewness transformations.\n",
    "for column in box_cox_list + yeo_johnson_list:\n",
    "    plotter.before_after_skewness_transformation(df, column)"
   ]
  }
 ],
 "metadata": {
  "language_info": {
   "name": "python"
  }
 },
 "nbformat": 4,
 "nbformat_minor": 2
}
