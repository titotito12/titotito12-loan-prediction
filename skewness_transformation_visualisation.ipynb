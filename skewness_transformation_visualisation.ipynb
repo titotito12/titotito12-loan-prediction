{
 "cells": [
  {
   "cell_type": "code",
   "execution_count": null,
   "metadata": {},
   "outputs": [],
   "source": [
    "import pandas as pd\n",
    "# Auxiliary classes:\n",
    "from dataframeinfo import DataFrameInfo\n",
    "from dataframetransform import DataFrameTransform\n",
    "from plotter import Plotter"
   ]
  },
  {
   "cell_type": "code",
   "execution_count": null,
   "metadata": {},
   "outputs": [],
   "source": [
    "# Generate data frame by reading csv file.\n",
    "df = pd.read_csv('loan_payments_versions/loan_payments_post_null_imputation.csv', index_col='id')"
   ]
  },
  {
   "cell_type": "code",
   "execution_count": null,
   "metadata": {},
   "outputs": [],
   "source": [
    "# Creating an instance of each class.\n",
    "info = DataFrameInfo()\n",
    "plotter = Plotter()\n",
    "transform = DataFrameTransform()"
   ]
  },
  {
   "cell_type": "code",
   "execution_count": null,
   "metadata": {},
   "outputs": [],
   "source": [
    "# Retrieving a list with all the columns with a absolute value of skewness greater than 0.5.\n",
    "skewed_columns = info.get_skewed_columns(df, threshold=0.5)"
   ]
  },
  {
   "cell_type": "code",
   "execution_count": null,
   "metadata": {},
   "outputs": [],
   "source": [
    "#for each skewed column the 'compare_skewness_transformations' method will be called from the 'Plotter' class to visualise the skewness correction of each transformation method to identify the optimum.\n",
    "for column in skewed_columns:\n",
    "    plotter.compare_skewness_transformations(df, column)"
   ]
  }
 ],
 "metadata": {
  "language_info": {
   "name": "python"
  }
 },
 "nbformat": 4,
 "nbformat_minor": 2
}
